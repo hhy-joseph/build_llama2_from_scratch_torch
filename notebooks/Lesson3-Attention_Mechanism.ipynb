{
 "cells": [
  {
   "cell_type": "markdown",
   "metadata": {},
   "source": [
    "# Lesson 3: Attention Mechanism\n",
    "\n",
    "Welcome to Lesson 3! Today, we’re diving into the **attention mechanism**, the magic behind transformer models like Llama 2. Attention helps a model focus on the most important parts of a sentence, much like how you pay attention to key words when reading. Since you’re new to LLMs and transformers, we’ll build it step-by-step using PyTorch, with lots of explanations and examples.\n",
    "\n",
    "## What You’ll Learn\n",
    "- What attention is and why it’s crucial for language models.\n",
    "- How to create a single attention head with **query**, **key**, and **value** vectors.\n",
    "- How to process Chinese text from `data.csv` and visualize attention weights.\n",
    "- Every step of the attention computation, broken down for beginners.\n",
    "\n",
    "## Our Data\n",
    "We’re using `data.csv`, which contains Chinese text in the `head` column. This is real-world data, written in a casual Hong Kong style (e.g., from Lihkg). For example: *法國紅酒慢煮阿根廷牛舌 配 煙肉洋蔥炒著仔*. We’ll use this to see how attention works with Chinese!\n",
    "\n",
    "## Prerequisites\n",
    "- PyTorch installed (from Lesson 0).\n",
    "- `data.csv` ready with columns `user`, `title`, `head`.\n",
    "- Basic Python knowledge (no prior LLM experience needed!)."
   ]
  },
  {
   "cell_type": "markdown",
   "metadata": {},
   "source": [
    "## Step 1: Import Libraries\n",
    "\n",
    "First, let’s bring in the tools we need. Don’t worry if some names sound unfamiliar—we’ll explain them as we go!"
   ]
  },
  {
   "cell_type": "code",
   "execution_count": 1,
   "metadata": {},
   "outputs": [
    {
     "name": "stdout",
     "output_type": "stream",
     "text": [
      "PyTorch version: 2.6.0+cu118\n"
     ]
    }
   ],
   "source": [
    "import torch\n",
    "import torch.nn as nn\n",
    "import pandas as pd\n",
    "import matplotlib.pyplot as plt\n",
    "import seaborn as sns\n",
    "\n",
    "# Set random seed so our results are consistent\n",
    "torch.manual_seed(42)\n",
    "\n",
    "# Check if PyTorch is working\n",
    "print(\"PyTorch version:\", torch.__version__)"
   ]
  },
  {
   "cell_type": "markdown",
   "metadata": {},
   "source": [
    "## Step 2: Load and Explore the Chinese Data\n",
    "\n",
    "Let’s load `data.csv` and take a look at our Chinese text. We’ll use the `head` column, which has the main content."
   ]
  },
  {
   "cell_type": "code",
   "execution_count": 2,
   "metadata": {},
   "outputs": [
    {
     "name": "stdout",
     "output_type": "stream",
     "text": [
      "First 3 rows of data:\n",
      "    user                      title  \\\n",
      "0  慘過番印度  是靚午 法國紅酒慢煮阿根廷牛舌 配 煙肉洋蔥炒著仔   \n",
      "1  慘過番印度               是靚午 仙台風燒牛舌定食   \n",
      "2  慘過番印度               衰妹愈大愈有女人味...   \n",
      "\n",
      "                                                head  \n",
      "0  法國紅酒慢煮阿根廷牛舌 配 煙肉洋蔥炒著仔#wail#pig\\n（$60-5）#wail#p...  \n",
      "1  仙台風燒牛舌定食#wail#pig\\n（$63）#wail#pig\\n\\n講吓味道先#wai...  \n",
      "2                                         是#wail#pig  \n",
      "\n",
      "Sample Chinese text we'll work with:\n",
      "法國紅酒慢煮阿根廷牛舌 配 煙肉洋蔥炒著仔#wail#pig\\n（$60-5）#wail#pig\\n\\n講吓味道先#wail#pig\\n牛舌有成5大塊#wail#pig\\n已經煮到好淋#wail#pig\\n入口很香，幾乎即化#wail#pig\\n配埋個酸酸地嘅紅酒汁解膩一流#wail#pig\\n同炒著仔都很夾#wail#pig\\n有脷有著有菜#wail#pig\\n又是健康嘅一餐#wail#pig\\n食完條脷根好C伏#wail#pig\n"
     ]
    }
   ],
   "source": [
    "# Load the dataset\n",
    "data_path = 'data/data.csv'\n",
    "df = pd.read_csv(data_path)\n",
    "\n",
    "# Show the first few rows\n",
    "print(\"First 3 rows of data:\")\n",
    "print(df.head(3))\n",
    "\n",
    "# Pick a sample from the 'head' column\n",
    "sample_text = df['head'].iloc[0]\n",
    "print(\"\\nSample Chinese text we'll work with:\")\n",
    "print(sample_text)"
   ]
  },
  {
   "cell_type": "markdown",
   "metadata": {},
   "source": [
    "## Step 3: Simulate Tokenization and Embeddings\n",
    "\n",
    "### What’s Happening Here?\n",
    "Before attention, we need to turn our Chinese text into numbers a model can understand. This involves:\n",
    "1. **Tokenization**: Splitting text into small pieces (e.g., characters or words). For Chinese, we might split into characters like `法`, `國`, `紅`, or into meaningful chunks like `法國` (France) or `紅酒` (red wine).\n",
    "2. **Embeddings**: Turning each token into a vector of numbers (e.g., `[0.1, -0.5, 0.3, ...]`), which captures its meaning in a way the model can process.\n",
    "\n",
    "In Lesson 2, we covered this, but for now, we’ll *simulate* it with random numbers to focus on attention. Imagine we’ve tokenized our sample text into 6 pieces (e.g., `法國`, `紅酒`, `慢煮`, `阿根廷`, `牛舌`, `配`) and turned them into embeddings.\n",
    "\n",
    "**Note**: Tokens aren’t always single characters; they can be multiple characters, like `阿根廷` (Argentina) as one token. This depends on the tokenizer’s rules or training data.\n",
    "\n",
    "### Full Flow Recap Example\n",
    "\n",
    "These examples are *not* the actual embeddings; they’re just to help you understand how text transforms into numbers for the model:\n",
    "\n",
    "- **Characters**: 法國紅酒慢煮阿根廷牛舌 → [法, 國, 紅, 酒, 慢, 煮, 阿, 根, 廷, 牛, 舌]\n",
    "- **Tokens**: [法國, 紅酒, 慢煮, 阿根廷, 牛舌] (e.g., via a subword tokenizer)\n",
    "- **Embeddings**:\n",
    "```\n",
    "[\n",
    "  [0.1, -0.2, 0.5, 0.3, ...],   # 法國 (France)\n",
    "  [0.4, 0.1, -0.3, 0.7, ...],   # 紅酒 (red wine)\n",
    "  [-0.1, 0.6, 0.0, -0.4, ...],  # 慢煮 (slow-cooked)\n",
    "  [0.2, -0.5, 0.8, 0.1, ...],   # 阿根廷 (Argentina)\n",
    "  [0.3, 0.2, -0.1, 0.9, ...]    # 牛舌 (beef tongue)\n",
    "]\n",
    "```\n",
    "\n",
    "### Let’s Do It\n",
    "We’ll create a small batch of embeddings to represent 6 tokens."
   ]
  },
  {
   "cell_type": "code",
   "execution_count": 3,
   "metadata": {},
   "outputs": [
    {
     "name": "stdout",
     "output_type": "stream",
     "text": [
      "Input shape: torch.Size([1, 6, 64])\n",
      "First token’s embedding (partial): tensor([ 1.9269,  1.4873,  0.9007, -2.1055,  0.6784])\n"
     ]
    }
   ],
   "source": [
    "# Define sizes\n",
    "batch_size = 1    # One sentence at a time\n",
    "seq_length = 6    # 6 tokens (e.g., 法國, 紅酒, 慢煮, 阿根廷, 牛舌, 配)\n",
    "embed_dim = 64    # Each token gets a vector of 64 numbers\n",
    "\n",
    "# Create fake embeddings (random numbers)\n",
    "X = torch.randn(batch_size, seq_length, embed_dim)\n",
    "print(\"Input shape:\", X.shape)  # Should be [1, 6, 64]\n",
    "print(\"First token’s embedding (partial):\", X[0, 0, :5])  # Peek at first 5 numbers"
   ]
  },
  {
   "cell_type": "markdown",
   "metadata": {},
   "source": [
    "## Step 4: Understand Attention Basics\n",
    "\n",
    "### Why Attention?\n",
    "Imagine reading: *法國紅酒慢煮阿根廷牛舌 配 煙肉洋蔥炒著仔*. To understand `牛舌` (beef tongue), you’d naturally focus on words like `慢煮` (slow-cooked) and `紅酒` (red wine), which describe its preparation, rather than `洋蔥` (onion), which relates to a side dish. Attention lets the model do this automatically, figuring out which parts of the sentence matter most for each word!\n",
    "\n",
    "This ability to focus dynamically is why transformers excel at tasks like translation or text generation, where context from different parts of the input is crucial.\n",
    "\n",
    "### How It Works\n",
    "Attention uses three key components:\n",
    "- **Query (Q)**: What a token is *looking for*. For example, `牛舌` might ask, “Which words tell me how I’m prepared?”\n",
    "- **Key (K)**: What each token *offers*. All tokens (e.g., `紅酒`, `慢煮`) provide clues about their relevance.\n",
    "- **Value (V)**: The actual information shared once relevance is determined. If `慢煮` is relevant to `牛舌`, its value contributes to `牛舌`’s new representation.\n",
    "\n",
    "Here’s the process in detail:\n",
    "1. Each token in the input sequence (like `法國`, `紅酒`) is transformed into three vectors: **query**, **key**, and **value** using linear transformations.\n",
    "2. The **query vector** of one token (e.g., `牛舌`) is compared to the **key vectors** of all tokens to measure similarity (how much they relate).\n",
    "3. These similarities become **attention scores**, which are scaled and normalized into **attention weights** (probabilities).\n",
    "4. The **value vectors** are then combined based on these weights, creating a new representation for each token that reflects the context it cares about.\n",
    "\n",
    "For example, `牛舌` might end up with a representation heavily influenced by `慢煮` and `紅酒`, but not `洋蔥`.\n",
    "\n",
    "### The Formula\n",
    "We’ll compute:\n",
    "\\[ \\text{Attention}(Q, K, V) = \\text{softmax}(\\frac{QK^T}{\\sqrt{d_k}})V \\]\n",
    "\n",
    "Don’t worry—this looks scary, but it’s simple when broken down:\n",
    "- **QK^T**: The dot product between query (Q) and key (K) vectors, giving raw similarity scores.\n",
    "- **Scaling (÷ √d_k)**: Divides the scores by the square root of the key vector dimension (`d_k`) to prevent them from getting too large, which helps training stability.\n",
    "- **Softmax**: Turns scores into probabilities (weights) that sum to 1, showing how much focus each token gets.\n",
    "- **Multiply by V**: Uses these weights to blend the value vectors, producing the final output.\n",
    "\n",
    "This process lets the model dynamically adjust its focus for each token, making it powerful for understanding language context."
   ]
  },
  {
   "cell_type": "markdown",
   "metadata": {},
   "source": [
    "```text\n",
    "[Input: 法國紅酒慢煮阿根廷牛舌配]  (Embeddings [1, 6, 64])\n",
    "       |\n",
    "       |-------------------|-------------------|\n",
    "       |                   |                   |\n",
    "[Query: Q]          [Key: K]           [Value: V]\n",
    "(法國 Q, 牛舌 Q, ...)  (慢煮 K, 配 K, ...)  (紅酒 V, 阿根廷 V, ...)\n",
    "[1, 6, 32]          [1, 6, 32]          [1, 6, 32]\n",
    "       |                   |\n",
    "       |-------------------|\n",
    "              |\n",
    "       [Scores: QK^T]  (e.g., 牛舌 vs 慢煮 = 2.5)\n",
    "       [1, 6, 6]   ---> [Scale: ÷ √32]\n",
    "              |\n",
    "       [Weights: Softmax]  (e.g., 牛舌 -> 慢煮 = 0.45)\n",
    "       [1, 6, 6]\n",
    "              |\n",
    "       [Output: Weights × V]  (e.g., 牛舌 mixes 慢煮 V, 紅酒 V)\n",
    "       [1, 6, 32]\n",
    "              |\n",
    "[Final Output: Context-Aware Tokens]\n",
    "(法國', 紅酒', 慢煮', 阿根廷', 牛舌', 配')\n",
    "[1, 6, 32]\n",
    "```"
   ]
  },
  {
   "cell_type": "code",
   "execution_count": 4,
   "metadata": {},
   "outputs": [
    {
     "data": {
      "text/html": [
       "<img src=\"https://mermaid.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\"/>"
      ],
      "text/plain": [
       "<IPython.core.display.Image object>"
      ]
     },
     "metadata": {},
     "output_type": "display_data"
    }
   ],
   "source": [
    "import base64\n",
    "from IPython.display import Image, display\n",
    "\n",
    "def mm_ink(graphbytes):\n",
    "  \"\"\"Given a bytes object holding a Mermaid-format graph, return a URL that will generate the image.\"\"\"\n",
    "  base64_bytes = base64.b64encode(graphbytes)\n",
    "  base64_string = base64_bytes.decode(\"ascii\")\n",
    "  return \"https://mermaid.ink/img/\" + base64_string\n",
    "\n",
    "def mm_display(graphbytes):\n",
    "  \"\"\"Given a bytes object holding a Mermaid-format graph, display it.\"\"\"\n",
    "  display(Image(url=mm_ink(graphbytes)))\n",
    "\n",
    "def mm(graph):\n",
    "  \"\"\"Given a string containing a Mermaid-format graph, display it.\"\"\"\n",
    "  graphbytes = graph.encode(\"utf-8\")\n",
    "  mm_display(graphbytes)\n",
    "\n",
    "\n",
    "mm(\"\"\"\n",
    "flowchart TD\n",
    "    subgraph Input[\"Step 1: Input Tokens with Embeddings\"]\n",
    "        T1[\"法國 [0.1, -0.2]\"]\n",
    "        T2[\"紅酒 [0.4, 0.1]\"]\n",
    "        T3[\"牛舌 [0.3, 0.2]\"]\n",
    "    end\n",
    "\n",
    "    subgraph Transform[\"Linear Transformation\"]\n",
    "        direction TB\n",
    "        Q[\"Queries (Q)\"]\n",
    "        K[\"Keys (K)\"]\n",
    "        V[\"Values (V)\"]\n",
    "    end\n",
    "\n",
    "    subgraph QKV[\"Token Vectors\"]\n",
    "        direction TB\n",
    "        Q1[\"法國 Q: [0.2, 0.1]\"]\n",
    "        Q2[\"紅酒 Q: [0.3, -0.1]\"]\n",
    "        Q3[\"牛舌 Q: [0.1, 0.4]\"]\n",
    "        K1[\"法國 K: [0.1, 0.3]\"]\n",
    "        K2[\"紅酒 K: [0.2, -0.2]\"]\n",
    "        K3[\"牛舌 K: [0.5, 0.0]\"]\n",
    "        V1[\"法國 V: [0.4, 0.2]\"]\n",
    "        V2[\"紅酒 V: [0.3, -0.1]\"]\n",
    "        V3[\"牛舌 V: [0.2, 0.5]\"]\n",
    "    end\n",
    "\n",
    "    subgraph Compare[\"Step 2: Query-Key Comparison\"]\n",
    "        direction TB\n",
    "        C1[\"牛舌·法國 = 0.13\"]\n",
    "        C2[\"牛舌·紅酒 = -0.06\"]\n",
    "        C3[\"牛舌·牛舌 = 0.05\"]\n",
    "    end\n",
    "\n",
    "    subgraph Normalize[\"Step 3: Scale and Softmax\"]\n",
    "        direction TB\n",
    "        N1[\"Scale: [0.065, -0.03, 0.025]\"]\n",
    "        N2[\"Weights: [0.38, 0.30, 0.32]\"]\n",
    "    end\n",
    "\n",
    "    subgraph Combine[\"Step 4: Weighted Values\"]\n",
    "        direction TB\n",
    "        W1[\"法國: [0.152, 0.076]\"]\n",
    "        W2[\"紅酒: [0.09, -0.03]\"]\n",
    "        W3[\"牛舌: [0.064, 0.16]\"]\n",
    "        Sum[\"Final: [0.306, 0.206]\"]\n",
    "    end\n",
    "\n",
    "    subgraph Output[\"Context-Aware Representations\"]\n",
    "        O1[\"法國': [x, y]\"]\n",
    "        O2[\"紅酒': [a, b]\"]\n",
    "        O3[\"牛舌': [0.306, 0.206]\"]\n",
    "    end\n",
    "\n",
    "    Input --> Transform\n",
    "    Transform --> QKV\n",
    "    QKV --> Compare\n",
    "    Compare --> Normalize\n",
    "    Normalize --> Combine\n",
    "    Combine --> Output\n",
    "\n",
    "    style Input fill:#f0f0f0\n",
    "    style Transform fill:#e1f5fe\n",
    "    style QKV fill:#e8f5e9\n",
    "    style Compare fill:#fff3e0\n",
    "    style Normalize fill:#fce4ec\n",
    "    style Combine fill:#f3e5f5\n",
    "    style Output fill:#e8eaf6\n",
    "\"\"\")\n"
   ]
  },
  {
   "cell_type": "markdown",
   "metadata": {},
   "source": [
    "## Step 5: Build the Attention Head Step-by-Step\n",
    "\n",
    "Let’s create a single attention head. We’ll define a class and go through each part slowly."
   ]
  },
  {
   "cell_type": "code",
   "execution_count": 5,
   "metadata": {},
   "outputs": [],
   "source": [
    "# Define the attention head class\n",
    "class SingleHeadAttention(nn.Module):\n",
    "    def __init__(self, embed_dim, head_dim):\n",
    "        super().__init__()\n",
    "        # Linear layers to create Q, K, V from embeddings\n",
    "        self.query = nn.Linear(embed_dim, head_dim)  # For queries\n",
    "        self.key = nn.Linear(embed_dim, head_dim)    # For keys\n",
    "        self.value = nn.Linear(embed_dim, head_dim)  # For values\n",
    "        self.scale = head_dim ** -0.5  # Scaling factor to keep numbers stable\n",
    "\n",
    "    def forward(self, x):\n",
    "        # Input x is our embeddings: [batch_size, seq_length, embed_dim]\n",
    "        return x  # We’ll fill this in step-by-step\n",
    "\n",
    "# Set dimensions\n",
    "head_dim = 32  # Smaller size for Q, K, V vectors\n",
    "attention = SingleHeadAttention(embed_dim, head_dim)"
   ]
  },
  {
   "cell_type": "markdown",
   "metadata": {},
   "source": [
    "### Step 5.1: Compute Query, Key, Value\n",
    "\n",
    "Our input `X` has shape `[1, 6, 64]` (1 batch, 6 tokens, 64 embedding size). We’ll transform it into Q, K, V with shape `[1, 6, 32]` using linear layers.\n",
    "\n",
    "- **Query**: What each token wants to ask (e.g., `牛舌` asks about preparation).\n",
    "- **Key**: What each token offers (e.g., `慢煮` offers cooking info).\n",
    "- **Value**: What each token provides if chosen (e.g., `慢煮`’s meaning)."
   ]
  },
  {
   "cell_type": "code",
   "execution_count": 6,
   "metadata": {},
   "outputs": [
    {
     "name": "stdout",
     "output_type": "stream",
     "text": [
      "Query shape: torch.Size([1, 6, 32])\n",
      "Key shape: torch.Size([1, 6, 32])\n",
      "Value shape: torch.Size([1, 6, 32])\n",
      "First token’s Query (partial): tensor([-0.0636,  0.1999,  0.3005, -0.2582,  0.4138], grad_fn=<SliceBackward0>)\n"
     ]
    }
   ],
   "source": [
    "# Test computing Q, K, V\n",
    "Q = attention.query(X)  # [1, 6, 32]\n",
    "K = attention.key(X)    # [1, 6, 32]\n",
    "V = attention.value(X)  # [1, 6, 32]\n",
    "\n",
    "print(\"Query shape:\", Q.shape)\n",
    "print(\"Key shape:\", K.shape)\n",
    "print(\"Value shape:\", V.shape)\n",
    "print(\"First token’s Query (partial):\", Q[0, 0, :5])"
   ]
  },
  {
   "cell_type": "markdown",
   "metadata": {},
   "source": [
    "### Step 5.2: Calculate Attention Scores\n",
    "\n",
    "Now, we compare every query to every key using a dot product. For each of our 6 tokens, we’ll get a score against all 6 tokens, creating a `[6, 6]` score matrix.\n",
    "\n",
    "- **Dot Product**: Measures similarity (higher = more similar). For example, `牛舌`’s query dot product with `慢煮`’s key might be high.\n",
    "- **Scaling**: Divide by √(head_dim) (here, √32 ≈ 5.66) to keep scores manageable and improve training.\n",
    "\n",
    "In math: \\( \\text{scores} = \\frac{QK^T}{\\sqrt{d_k}} \\)"
   ]
  },
  {
   "cell_type": "code",
   "execution_count": 7,
   "metadata": {},
   "outputs": [
    {
     "name": "stdout",
     "output_type": "stream",
     "text": [
      "Scores shape: torch.Size([1, 6, 6])\n",
      "Scores for first token (partial): tensor([ 0.6851, -0.2949, -0.0752], grad_fn=<SliceBackward0>)\n"
     ]
    }
   ],
   "source": [
    "# Compute scores\n",
    "scores = torch.matmul(Q, K.transpose(-2, -1))  # [1, 6, 6]\n",
    "scores = scores * attention.scale  # Scale it\n",
    "\n",
    "print(\"Scores shape:\", scores.shape)\n",
    "print(\"Scores for first token (partial):\", scores[0, 0, :3])"
   ]
  },
  {
   "cell_type": "markdown",
   "metadata": {},
   "source": [
    "### Step 5.3: Apply Softmax to Get Weights\n",
    "\n",
    "Raw scores are hard to interpret, so we use **softmax** to turn them into probabilities (numbers between 0 and 1 that sum to 1). This tells us *how much* each token should focus on every other token.\n",
    "\n",
    "For example, `牛舌` might give a high weight (e.g., 0.5) to `慢煮` and a low weight (e.g., 0.05) to `洋蔥`. The softmax ensures these weights add up to 1 for each query token."
   ]
  },
  {
   "cell_type": "code",
   "execution_count": 8,
   "metadata": {},
   "outputs": [
    {
     "name": "stdout",
     "output_type": "stream",
     "text": [
      "Attention weights shape: torch.Size([1, 6, 6])\n",
      "Weights for first token: tensor([0.2838, 0.1065, 0.1327, 0.1016, 0.1399, 0.2356],\n",
      "       grad_fn=<SelectBackward0>)\n",
      "Sum of weights (should be ~1): tensor(1.0000, grad_fn=<SumBackward0>)\n"
     ]
    }
   ],
   "source": [
    "# Apply softmax\n",
    "attn_weights = torch.softmax(scores, dim=-1)  # [1, 6, 6]\n",
    "\n",
    "print(\"Attention weights shape:\", attn_weights.shape)\n",
    "print(\"Weights for first token:\", attn_weights[0, 0])\n",
    "print(\"Sum of weights (should be ~1):\", attn_weights[0, 0].sum())"
   ]
  },
  {
   "cell_type": "markdown",
   "metadata": {},
   "source": [
    "### Step 5.4: Combine with Values\n",
    "\n",
    "Now, use these weights to pick out the important parts of `V`. Multiply the weights `[1, 6, 6]` by `V` `[1, 6, 32]` to get an output `[1, 6, 32]`. Each token’s new representation is a weighted mix of all value vectors, based on attention.\n",
    "\n",
    "In math: \\( \\text{output} = \\text{softmax}(\\text{scores}) \\cdot V \\)\n",
    "\n",
    "This creates a context-aware version of each token. For `牛舌`, its output might mostly reflect `慢煮` and `紅酒`."
   ]
  },
  {
   "cell_type": "code",
   "execution_count": 9,
   "metadata": {},
   "outputs": [
    {
     "name": "stdout",
     "output_type": "stream",
     "text": [
      "Output shape: torch.Size([1, 6, 32])\n",
      "First token’s output (partial): tensor([ 0.3050,  0.3526,  0.3727, -0.2835,  0.0748], grad_fn=<SliceBackward0>)\n"
     ]
    }
   ],
   "source": [
    "# Compute output\n",
    "output = torch.matmul(attn_weights, V)  # [1, 6, 32]\n",
    "\n",
    "print(\"Output shape:\", output.shape)\n",
    "print(\"First token’s output (partial):\", output[0, 0, :5])"
   ]
  },
  {
   "cell_type": "markdown",
   "metadata": {},
   "source": [
    "### Step 5.5: Put It All Together\n",
    "\n",
    "Let’s update our class with the full forward pass. We’ll return both the output and attention weights so we can visualize them later."
   ]
  },
  {
   "cell_type": "code",
   "execution_count": 10,
   "metadata": {},
   "outputs": [
    {
     "name": "stdout",
     "output_type": "stream",
     "text": [
      "Final output shape: torch.Size([1, 6, 32])\n",
      "Final attn_weights shape: torch.Size([1, 6, 6])\n"
     ]
    }
   ],
   "source": [
    "class SingleHeadAttention(nn.Module):\n",
    "    def __init__(self, embed_dim, head_dim):\n",
    "        super().__init__()\n",
    "        self.query = nn.Linear(embed_dim, head_dim)\n",
    "        self.key = nn.Linear(embed_dim, head_dim)\n",
    "        self.value = nn.Linear(embed_dim, head_dim)\n",
    "        self.scale = head_dim ** -0.5\n",
    "\n",
    "    def forward(self, x):\n",
    "        Q = self.query(x)                     # [batch_size, seq_length, head_dim]\n",
    "        K = self.key(x)                       # [batch_size, seq_length, head_dim]\n",
    "        V = self.value(x)                     # [batch_size, seq_length, head_dim]\n",
    "        scores = torch.matmul(Q, K.transpose(-2, -1)) * self.scale  # [batch_size, seq_length, seq_length]\n",
    "        attn_weights = torch.softmax(scores, dim=-1)  # [batch_size, seq_length, seq_length]\n",
    "        out = torch.matmul(attn_weights, V)   # [batch_size, seq_length, head_dim]\n",
    "        return out, attn_weights\n",
    "\n",
    "# Test it\n",
    "attention = SingleHeadAttention(embed_dim, head_dim)\n",
    "output, attn_weights = attention(X)\n",
    "print(\"Final output shape:\", output.shape)\n",
    "print(\"Final attn_weights shape:\", attn_weights.shape)"
   ]
  },
  {
   "cell_type": "markdown",
   "metadata": {},
   "source": [
    "## Step 6: Visualize Attention Weights\n",
    "\n",
    "Let’s see how our 6 tokens (e.g., `法國`, `紅酒`, `慢煮`, `阿根廷`, `牛舌`, `配`) pay attention to each other using a heatmap. To display Chinese characters correctly, we’ll set Matplotlib to use a font that supports Chinese, like `SimHei`."
   ]
  },
  {
   "cell_type": "code",
   "execution_count": 18,
   "metadata": {},
   "outputs": [
    {
     "data": {
      "image/png": "[encoded data removed]",
      "text/plain": [
       "<Figure size 800x600 with 2 Axes>"
      ]
     },
     "metadata": {},
     "output_type": "display_data"
    }
   ],
   "source": [
    "# Set up font for Chinese characters\n",
    "plt.rcParams['font.sans-serif'] = ['Microsoft YaHei']  # Or another font that supports Chinese\n",
    "plt.rcParams['axes.unicode_minus'] = False  # Fix minus sign display\n",
    "\n",
    "# Convert weights to numpy for plotting\n",
    "attn_weights_np = attn_weights[0].detach().numpy()\n",
    "\n",
    "# Fake token labels (since we simulated data)\n",
    "tokens = ['法國', '紅酒', '慢煮', '阿根廷', '牛舌', '配']\n",
    "\n",
    "# Plot heatmap\n",
    "plt.figure(figsize=(8, 6))\n",
    "sns.heatmap(attn_weights_np, annot=True, cmap='Blues', fmt='.2f', xticklabels=tokens, yticklabels=tokens)\n",
    "plt.title('注意力權重熱圖 (Attention Weights Heatmap)')\n",
    "plt.xlabel('被關注的詞 (Keys)')\n",
    "plt.ylabel('關注的詞 (Queries)')\n",
    "plt.show()"
   ]
  },
  {
   "cell_type": "markdown",
   "metadata": {},
   "source": [
    "### What Does This Show?\n",
    "- **Rows**: Each row represents a token (query) looking at all tokens (keys). For example, the row for `牛舌` shows how much it attends to every other token.\n",
    "- **Columns**: Each column shows how much a token (key) is attended to by all queries.\n",
    "- **Values**: High values (darker blue) mean strong attention. If `牛舌` has a high weight on `慢煮` (e.g., 0.5), it means `慢煮` is important for understanding `牛舌`.\n",
    "\n",
    "**Interpretation Example**: In our sentence, you might see `牛舌` paying strong attention to `慢煮` and `紅酒`, since they describe how the beef tongue is cooked. Meanwhile, it might pay less attention to `配` or `洋蔥`, which relate to the side dish. This shows how attention captures contextual relationships!"
   ]
  },
  {
   "cell_type": "markdown",
   "metadata": {},
   "source": [
    "## Step 7: Exercises for Practice\n",
    "\n",
    "Try these to deepen your understanding:\n",
    "1. **Change `head_dim`**: Set it to 16 or 64. Run the code and check the output shape. What do you notice about the shape of the attention weights?\n",
    "2. **Longer Sequence**: Change `seq_length` to 8 (add fake tokens like `煙肉`, `洋蔥`). Re-run and visualize. How does the attention pattern change with more tokens?\n",
    "3. **Peek at Scores**: Add `print(scores[0])` before softmax in the `forward` method. What do the raw scores look like? Are there any patterns or large values?\n",
    "4. **Interpret Attention**: Look at the heatmap. Which token pays the most attention to `牛舌`? Does it make sense based on the sentence meaning (e.g., preparation vs. side dish)?\n",
    "\n",
    "Write your code below and experiment!"
   ]
  },
  {
   "cell_type": "code",
   "execution_count": 12,
   "metadata": {},
   "outputs": [],
   "source": [
    "# Your exercise code here\n",
    "\n"
   ]
  },
  {
   "cell_type": "markdown",
   "metadata": {},
   "source": [
    "## Summary\n",
    "\n",
    "Wow, you did it! Here’s what we covered:\n",
    "- **Attention’s Purpose**: It helps the model focus on important tokens, like how `牛舌` relates to `慢煮` and `紅酒`.\n",
    "- **Building It**: We created a single attention head with Q, K, V, step-by-step.\n",
    "- **Visualization**: We plotted attention weights to see relationships in our Chinese text.\n",
    "\n",
    "Next time, in Lesson 4, we’ll add more heads (multi-head attention) and build a full transformer block. You’re on your way to mastering LLMs!"
   ]
  }
 ],
 "metadata": {
  "kernelspec": {
   "display_name": ".venv",
   "language": "python",
   "name": "python3"
  },
  "language_info": {
   "codemirror_mode": {
    "name": "ipython",
    "version": 3
   },
   "file_extension": ".py",
   "mimetype": "text/x-python",
   "name": "python",
   "nbconvert_exporter": "python",
   "pygments_lexer": "ipython3",
   "version": "3.11.11"
  }
 },
 "nbformat": 4,
 "nbformat_minor": 4
}
