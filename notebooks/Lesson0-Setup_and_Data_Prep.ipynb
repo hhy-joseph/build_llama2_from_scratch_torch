{
 "cells": [
  {
   "cell_type": "markdown",
   "metadata": {},
   "source": [
    "# Lesson 0: Setup and Data Preparation\n",
    "\n",
    "Welcome to the **MiniLlama2-Tutorial**! This notebook sets up your environment and prepares the dataset for building a smaller version of the Llama 2 LLM. We'll install necessary packages and retrieve 100 rows of traditional Chinese (HK) data from the Lihkg dataset.\n",
    "\n",
    "## Objectives\n",
    "- Set up the environment (Google Colab or local venv).\n",
    "- Install required packages (PyTorch, datasets, etc.).\n",
    "- Download and save the first 100 rows of Lihkg data.\n",
    "\n",
    "## Prerequisites\n",
    "- Google Colab (recommended) or a local Python environment (3.8+).\n",
    "- Internet access to download packages and data.\n",
    "\n",
    "Let's get started!"
   ]
  },
  {
   "cell_type": "code",
   "execution_count": null,
   "metadata": {},
   "outputs": [],
   "source": [
    "# Check Python version\n",
    "!python --version"
   ]
  },
  {
   "cell_type": "markdown",
   "metadata": {},
   "source": [
    "## Step 1: Install Required Packages\n",
    "\n",
    "We'll install the necessary Python packages. On Google Colab, some like PyTorch might be pre-installed, but we'll ensure the latest versions. If you're using a local environment, these commands work in a venv.\n",
    "\n",
    "Run the cell below to install:\n",
    "- `torch`: PyTorch for model building.\n",
    "- `datasets`: Hugging Face library to load Lihkg data.\n",
    "- `pandas`: For data manipulation.\n",
    "- `numpy`: For numerical operations.\n",
    "- `matplotlib`: For visualizations in later lessons.\n",
    "- `flask`: For deployment in Lesson 8."
   ]
  },
  {
   "cell_type": "code",
   "execution_count": null,
   "metadata": {},
   "outputs": [],
   "source": [
    "# Install packages\n",
    "!pip install torch datasets pandas numpy matplotlib flask\n",
    "\n",
    "# My installation on local device with nvidia GPU 4070\n",
    "# pip  install datasets pandas numpy matplotlib flask ipykernel                                                                            \n",
    "# pip install torch torchvision torchaudio --index-url https://download.pytorch.org/whl/cu118"
   ]
  },
  {
   "cell_type": "markdown",
   "metadata": {},
   "source": [
    "## Step 2: Verify Installation\n",
    "\n",
    "Let's verify that the packages are installed correctly by importing them."
   ]
  },
  {
   "cell_type": "code",
   "execution_count": 2,
   "metadata": {},
   "outputs": [
    {
     "name": "stdout",
     "output_type": "stream",
     "text": [
      "PyTorch version: 2.6.0+cu118\n",
      "Datasets version: 3.3.2\n",
      "Pandas version: 2.2.3\n",
      "NumPy version: 2.2.3\n",
      "Flask version: 3.1.0\n",
      "All packages installed successfully!\n"
     ]
    },
    {
     "name": "stderr",
     "output_type": "stream",
     "text": [
      "C:\\Users\\hohoy\\AppData\\Local\\Temp\\ipykernel_7028\\1602257123.py:13: DeprecationWarning: The '__version__' attribute is deprecated and will be removed in Flask 3.1. Use feature detection or 'importlib.metadata.version(\"flask\")' instead.\n",
      "  print(\"Flask version:\", flask.__version__)\n"
     ]
    }
   ],
   "source": [
    "# Import and verify\n",
    "import torch\n",
    "import datasets\n",
    "import pandas as pd\n",
    "import numpy as np\n",
    "import matplotlib.pyplot as plt\n",
    "import flask\n",
    "\n",
    "print(\"PyTorch version:\", torch.__version__)\n",
    "print(\"Datasets version:\", datasets.__version__)\n",
    "print(\"Pandas version:\", pd.__version__)\n",
    "print(\"NumPy version:\", np.__version__)\n",
    "print(\"Flask version:\", flask.__version__)\n",
    "print(\"All packages installed successfully!\")"
   ]
  },
  {
   "cell_type": "markdown",
   "metadata": {},
   "source": [
    "## Step 3: Optional - Set Up Virtual Environment (Local Only)\n",
    "\n",
    "If you're not using Google Colab and want to use a local virtual environment, follow these steps in your terminal (not needed in Colab):\n",
    "\n",
    "1. Create a virtual environment:\n",
    "   ```bash\n",
    "   python -m venv minillama2_env\n",
    "   ```\n",
    "2. Activate it:\n",
    "   - Windows: `minillama2_env\\Scripts\\activate`\n",
    "   - Mac/Linux: `source minillama2_env/bin/activate`\n",
    "3. Install packages (run in terminal after activation):\n",
    "   ```bash\n",
    "   pip install torch datasets pandas numpy matplotlib flask\n",
    "   ```\n",
    "\n",
    "For Colab users, skip this step as the environment is already set up."
   ]
  },
  {
   "cell_type": "markdown",
   "metadata": {},
   "source": [
    "## Step 4: Retrieve Data"
   ]
  },
  {
   "cell_type": "code",
   "execution_count": 4,
   "metadata": {},
   "outputs": [
    {
     "data": {
      "text/html": [
       "<div>\n",
       "<style scoped>\n",
       "    .dataframe tbody tr th:only-of-type {\n",
       "        vertical-align: middle;\n",
       "    }\n",
       "\n",
       "    .dataframe tbody tr th {\n",
       "        vertical-align: top;\n",
       "    }\n",
       "\n",
       "    .dataframe thead th {\n",
       "        text-align: right;\n",
       "    }\n",
       "</style>\n",
       "<table border=\"1\" class=\"dataframe\">\n",
       "  <thead>\n",
       "    <tr style=\"text-align: right;\">\n",
       "      <th></th>\n",
       "      <th>user</th>\n",
       "      <th>title</th>\n",
       "      <th>head</th>\n",
       "    </tr>\n",
       "  </thead>\n",
       "  <tbody>\n",
       "    <tr>\n",
       "      <th>0</th>\n",
       "      <td>慘過番印度</td>\n",
       "      <td>是靚午 法國紅酒慢煮阿根廷牛舌 配 煙肉洋蔥炒著仔</td>\n",
       "      <td>法國紅酒慢煮阿根廷牛舌 配 煙肉洋蔥炒著仔#wail#pig\\n（$60-5）#wail#p...</td>\n",
       "    </tr>\n",
       "    <tr>\n",
       "      <th>1</th>\n",
       "      <td>慘過番印度</td>\n",
       "      <td>是靚午 仙台風燒牛舌定食</td>\n",
       "      <td>仙台風燒牛舌定食#wail#pig\\n（$63）#wail#pig\\n\\n講吓味道先#wai...</td>\n",
       "    </tr>\n",
       "    <tr>\n",
       "      <th>2</th>\n",
       "      <td>慘過番印度</td>\n",
       "      <td>衰妹愈大愈有女人味...</td>\n",
       "      <td>是#wail#pig</td>\n",
       "    </tr>\n",
       "    <tr>\n",
       "      <th>3</th>\n",
       "      <td>慘過番印度</td>\n",
       "      <td>是靚午 秦式三餸飯</td>\n",
       "      <td>秦式三餸飯#wail#pig\\n（$47）#wail#pig\\n\\n講吓味道先#wail#p...</td>\n",
       "    </tr>\n",
       "    <tr>\n",
       "      <th>4</th>\n",
       "      <td>慘過番印度</td>\n",
       "      <td>想將雯雯啲ig story整合做一本書出版</td>\n",
       "      <td>是#wail#pig</td>\n",
       "    </tr>\n",
       "  </tbody>\n",
       "</table>\n",
       "</div>"
      ],
      "text/plain": [
       "    user                      title  \\\n",
       "0  慘過番印度  是靚午 法國紅酒慢煮阿根廷牛舌 配 煙肉洋蔥炒著仔   \n",
       "1  慘過番印度               是靚午 仙台風燒牛舌定食   \n",
       "2  慘過番印度               衰妹愈大愈有女人味...   \n",
       "3  慘過番印度                  是靚午 秦式三餸飯   \n",
       "4  慘過番印度      想將雯雯啲ig story整合做一本書出版   \n",
       "\n",
       "                                                head  \n",
       "0  法國紅酒慢煮阿根廷牛舌 配 煙肉洋蔥炒著仔#wail#pig\\n（$60-5）#wail#p...  \n",
       "1  仙台風燒牛舌定食#wail#pig\\n（$63）#wail#pig\\n\\n講吓味道先#wai...  \n",
       "2                                         是#wail#pig  \n",
       "3  秦式三餸飯#wail#pig\\n（$47）#wail#pig\\n\\n講吓味道先#wail#p...  \n",
       "4                                         是#wail#pig  "
      ]
     },
     "execution_count": 4,
     "metadata": {},
     "output_type": "execute_result"
    }
   ],
   "source": [
    "# Convert to pandas DataFrame\n",
    "df = pd.read_csv('data/data.csv')\n",
    "\n",
    "# Select the first 100 rows\n",
    "df_sample = df.head(100)\n",
    "\n",
    "# Display the first few rows\n",
    "df_sample.head()"
   ]
  },
  {
   "cell_type": "markdown",
   "metadata": {},
   "source": [
    "## Next Steps\n",
    "\n",
    "You're all set! Proceed to `Lesson1-Introduction_to_LM_and_Transformers.ipynb` to start learning about language models and transformers.\n",
    "\n",
    "If you encounter issues:\n",
    "- Ensure internet connectivity for package and data downloads.\n",
    "- Check Colab runtime (GPU optional but helpful for training).\n",
    "- Verify `data/lihkg_sample.csv` exists in the `data/` folder."
   ]
  }
 ],
 "metadata": {
  "kernelspec": {
   "display_name": ".venv",
   "language": "python",
   "name": "python3"
  },
  "language_info": {
   "codemirror_mode": {
    "name": "ipython",
    "version": 3
   },
   "file_extension": ".py",
   "mimetype": "text/x-python",
   "name": "python",
   "nbconvert_exporter": "python",
   "pygments_lexer": "ipython3",
   "version": "3.11.11"
  }
 },
 "nbformat": 4,
 "nbformat_minor": 2
}
